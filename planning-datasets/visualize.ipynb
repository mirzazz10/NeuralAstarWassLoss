{
 "cells": [
  {
   "cell_type": "code",
   "execution_count": 3,
   "metadata": {},
   "outputs": [
    {
     "ename": "ModuleNotFoundError",
     "evalue": "No module named 'matplotlib'",
     "output_type": "error",
     "traceback": [
      "\u001b[1;31m---------------------------------------------------------------------------\u001b[0m",
      "\u001b[1;31mModuleNotFoundError\u001b[0m                       Traceback (most recent call last)",
      "Cell \u001b[1;32mIn[3], line 1\u001b[0m\n\u001b[1;32m----> 1\u001b[0m \u001b[39mimport\u001b[39;00m \u001b[39mmatplotlib\u001b[39;00m\u001b[39m.\u001b[39;00m\u001b[39mpyplot\u001b[39;00m \u001b[39mas\u001b[39;00m \u001b[39mplt\u001b[39;00m\n\u001b[0;32m      2\u001b[0m \u001b[39mimport\u001b[39;00m \u001b[39mnumpy\u001b[39;00m \u001b[39mas\u001b[39;00m \u001b[39mnp\u001b[39;00m\n\u001b[0;32m      4\u001b[0m \u001b[39mdef\u001b[39;00m \u001b[39mshow\u001b[39m(data, vmin\u001b[39m=\u001b[39m\u001b[39m-\u001b[39m\u001b[39m50\u001b[39m):\n",
      "\u001b[1;31mModuleNotFoundError\u001b[0m: No module named 'matplotlib'"
     ]
    }
   ],
   "source": [
    "import matplotlib.pyplot as plt\n",
    "import numpy as np\n",
    "\n",
    "def show(data, vmin=-50):\n",
    "    plt.subplot(1, 3, 1)\n",
    "    plt.imshow(data['arr_0'][0])\n",
    "    plt.title(\"input map\")\n",
    "    plt.subplot(1, 3, 2)\n",
    "    plt.imshow(data['arr_1'][0][0])\n",
    "    plt.title(\"goal\")\n",
    "    plt.subplot(1, 3, 3)\n",
    "    plt.imshow(data['arr_3'][0][0], vmin=vmin)\n",
    "    plt.title(\"dist to goal\")"
   ]
  },
  {
   "cell_type": "code",
   "execution_count": null,
   "metadata": {},
   "outputs": [],
   "source": [
    "data = np.load(\"data/street/mixed_064_moore_c16.npz\")\n",
    "show(data, vmin=-200)"
   ]
  },
  {
   "cell_type": "code",
   "execution_count": null,
   "metadata": {},
   "outputs": [],
   "source": [
    "# data = np.load(\"data/sdd/s064_0.5_128_300/bookstore/video0/00000000_01.npz\")\n",
    "# plt.subplot(1, 2, 1)\n",
    "# plt.imshow(data[\"image\"])\n",
    "# plt.subplot(1, 2, 2)\n",
    "# plt.imshow(data[\"image\"])\n",
    "# plt.imshow(data[\"traj_image\"], alpha=.5)"
   ]
  }
 ],
 "metadata": {
  "interpreter": {
   "hash": "31f2aee4e71d21fbe5cf8b01ff0e069b9275f58929596ceb00d14d90e3e16cd6"
  },
  "kernelspec": {
   "display_name": "Python 3.7.9 64-bit",
   "name": "python3"
  },
  "language_info": {
   "codemirror_mode": {
    "name": "ipython",
    "version": 3
   },
   "file_extension": ".py",
   "mimetype": "text/x-python",
   "name": "python",
   "nbconvert_exporter": "python",
   "pygments_lexer": "ipython3",
   "version": "3.11.1"
  },
  "orig_nbformat": 4
 },
 "nbformat": 4,
 "nbformat_minor": 2
}
